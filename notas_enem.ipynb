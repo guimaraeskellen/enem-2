{
 "cells": [
  {
   "cell_type": "code",
   "execution_count": 23,
   "metadata": {},
   "outputs": [],
   "source": [
    "import pandas as pd\n",
    "from sklearn.ensemble import RandomForestRegressor\n",
    "from sklearn.model_selection import train_test_split\n",
    "from sklearn import metrics\n",
    "import numpy as np"
   ]
  },
  {
   "cell_type": "code",
   "execution_count": 24,
   "metadata": {
    "pycharm": {
     "name": "#%%\n"
    }
   },
   "outputs": [],
   "source": [
    "df = pd.read_csv('train.csv')\n",
    "df_test = pd.read_csv('test.csv')\n",
    "df_aux = df[['NU_NOTA_REDACAO', 'NU_NOTA_CN', 'NU_NOTA_CH', 'NU_NOTA_LC','NU_NOTA_MT']]\n",
    "df_test_aux = df_test[['NU_NOTA_REDACAO', 'NU_NOTA_CN', 'NU_NOTA_CH', 'NU_NOTA_LC']]"
   ]
  },
  {
   "cell_type": "code",
   "execution_count": 25,
   "outputs": [],
   "source": [
    "df_aux = df_aux.fillna(0)\n",
    "df_answer = df_test_aux.fillna(0)"
   ],
   "metadata": {
    "collapsed": false,
    "pycharm": {
     "name": "#%%\n"
    }
   }
  },
  {
   "cell_type": "code",
   "execution_count": 26,
   "metadata": {
    "pycharm": {
     "name": "#%%\n"
    }
   },
   "outputs": [],
   "source": [
    "x_features = ['NU_NOTA_REDACAO', 'NU_NOTA_CN', 'NU_NOTA_CH', 'NU_NOTA_LC']\n",
    "X = df_aux[x_features]\n",
    "Y = df_aux['NU_NOTA_MT']\n"
   ]
  },
  {
   "cell_type": "code",
   "execution_count": 27,
   "outputs": [],
   "source": [
    "\n",
    "X_train, X_test, y_train, y_test = train_test_split(X, Y, test_size=0.2, random_state=0)\n"
   ],
   "metadata": {
    "collapsed": false,
    "pycharm": {
     "name": "#%%\n"
    }
   }
  },
  {
   "cell_type": "code",
   "execution_count": 28,
   "metadata": {},
   "outputs": [],
   "source": [
    "modelRandomForest = RandomForestRegressor()\n",
    "modelRandomForest.fit(X_train,y_train)\n",
    "y_pred = modelRandomForest.predict(X_test)"
   ]
  },
  {
   "cell_type": "code",
   "execution_count": 29,
   "outputs": [
    {
     "name": "stdout",
     "output_type": "stream",
     "text": [
      "[  0.    624.8   514.47  ... 482.003   0.    462.649]\n"
     ]
    }
   ],
   "source": [
    "print(y_pred)"
   ],
   "metadata": {
    "collapsed": false,
    "pycharm": {
     "name": "#%%\n"
    }
   }
  },
  {
   "cell_type": "code",
   "execution_count": 30,
   "outputs": [
    {
     "name": "stdout",
     "output_type": "stream",
     "text": [
      "Mean Absolute Error: 45.618201019664966\n",
      "Mean Squared Error: 4439.936190271668\n",
      "Root Mean Squared Error: 66.63284618168181\n"
     ]
    }
   ],
   "source": [
    "print('Mean Absolute Error:', metrics.mean_absolute_error(y_test, y_pred))\n",
    "print('Mean Squared Error:', metrics.mean_squared_error(y_test, y_pred))\n",
    "print('Root Mean Squared Error:', np.sqrt(metrics.mean_squared_error(y_test, y_pred)))"
   ],
   "metadata": {
    "collapsed": false,
    "pycharm": {
     "name": "#%%\n"
    }
   }
  },
  {
   "cell_type": "code",
   "execution_count": 31,
   "outputs": [
    {
     "name": "stdout",
     "output_type": "stream",
     "text": [
      "91.53302771205661 %\n"
     ]
    }
   ],
   "source": [
    "accuracy = modelRandomForest.score(X_test,y_test)\n",
    "print(accuracy*100,'%')"
   ],
   "metadata": {
    "collapsed": false,
    "pycharm": {
     "name": "#%%\n"
    }
   }
  },
  {
   "cell_type": "code",
   "execution_count": 33,
   "outputs": [],
   "source": [
    "#predicting for the dataset sent\n",
    "\n",
    "y_pred_answer = modelRandomForest.predict(df_answer)"
   ],
   "metadata": {
    "collapsed": false,
    "pycharm": {
     "name": "#%%\n"
    }
   }
  },
  {
   "cell_type": "code",
   "execution_count": 34,
   "outputs": [
    {
     "data": {
      "text/plain": "array([428.525, 440.546, 599.282, ..., 667.375, 465.319,   0.   ])"
     },
     "execution_count": 34,
     "metadata": {},
     "output_type": "execute_result"
    }
   ],
   "source": [
    "y_pred_answer"
   ],
   "metadata": {
    "collapsed": false,
    "pycharm": {
     "name": "#%%\n"
    }
   }
  },
  {
   "cell_type": "code",
   "execution_count": 36,
   "outputs": [],
   "source": [
    "result = pd.DataFrame()\n",
    "result['NU_INSCRICAO'] = df_test.NU_INSCRICAO\n",
    "result['NU_NOTA_MT'] = y_pred_answer.round(1)"
   ],
   "metadata": {
    "collapsed": false,
    "pycharm": {
     "name": "#%%\n"
    }
   }
  },
  {
   "cell_type": "code",
   "execution_count": 38,
   "outputs": [
    {
     "data": {
      "text/plain": "                                  NU_INSCRICAO  NU_NOTA_MT\n1143  49b0b691c0182295bc83ac4cc9d50a64a5848c0d       536.3\n2961  b70538f08ddf1a96542d714a6806b352b30fd85e       437.9\n871   9306c48c3b1941bdc4639843294326772caec025       527.2\n1108  3b08ec5615162eeef39ddf97c305601f8d6be53c       679.2\n3939  3e26ead038e5b5759d3d85073df16d3c6277a1d6         0.0\n1505  7d93473c5e877b59586deaaf559da053dbc9a7bc       456.9\n4255  b8b8e12ce9e9d4ed8a63cea783c5f0ad0cd4083c       465.3\n1864  ab73810bdc3e819c4bcea28103c55ac80ea30c03       442.0\n2247  80ff901eec9640d285bfb2f9d54503a23ec78edf         0.0\n2605  92d26d442aa39811a925e409313c2155c70bd207       458.9\n1942  964e5231f3726b65b2ee6be9dab3ab4d7fd67999       452.9\n2850  91d6ce670cecd35b7f7da283df465ccb09f4fb32       475.5\n1916  eeaf1b97a497f1601f38342896b287a55b92267b       408.8\n489   b505434998285eb78dfdb4341e4a29cc13a2130a       424.7\n2383  86c838eb84d6b2b11398ebf5a2e4702e1abac79d       424.6\n3603  5aed9b781bc9d334def639b9e22fa0edd86c4104       432.3\n690   7a4af6bf3d3098a068b6094e3af6901fa2559195       513.2\n2966  eb65f90b1a02d029aed00ed2e671d34ab7b3df95         0.0\n1554  ca929d2fce6afa19a2a44d7324f59b5571504a56       427.3\n1301  4fd6d0176a158a7e6c0e74ab3b5559ffad569413         0.0",
      "text/html": "<div>\n<style scoped>\n    .dataframe tbody tr th:only-of-type {\n        vertical-align: middle;\n    }\n\n    .dataframe tbody tr th {\n        vertical-align: top;\n    }\n\n    .dataframe thead th {\n        text-align: right;\n    }\n</style>\n<table border=\"1\" class=\"dataframe\">\n  <thead>\n    <tr style=\"text-align: right;\">\n      <th></th>\n      <th>NU_INSCRICAO</th>\n      <th>NU_NOTA_MT</th>\n    </tr>\n  </thead>\n  <tbody>\n    <tr>\n      <th>1143</th>\n      <td>49b0b691c0182295bc83ac4cc9d50a64a5848c0d</td>\n      <td>536.3</td>\n    </tr>\n    <tr>\n      <th>2961</th>\n      <td>b70538f08ddf1a96542d714a6806b352b30fd85e</td>\n      <td>437.9</td>\n    </tr>\n    <tr>\n      <th>871</th>\n      <td>9306c48c3b1941bdc4639843294326772caec025</td>\n      <td>527.2</td>\n    </tr>\n    <tr>\n      <th>1108</th>\n      <td>3b08ec5615162eeef39ddf97c305601f8d6be53c</td>\n      <td>679.2</td>\n    </tr>\n    <tr>\n      <th>3939</th>\n      <td>3e26ead038e5b5759d3d85073df16d3c6277a1d6</td>\n      <td>0.0</td>\n    </tr>\n    <tr>\n      <th>1505</th>\n      <td>7d93473c5e877b59586deaaf559da053dbc9a7bc</td>\n      <td>456.9</td>\n    </tr>\n    <tr>\n      <th>4255</th>\n      <td>b8b8e12ce9e9d4ed8a63cea783c5f0ad0cd4083c</td>\n      <td>465.3</td>\n    </tr>\n    <tr>\n      <th>1864</th>\n      <td>ab73810bdc3e819c4bcea28103c55ac80ea30c03</td>\n      <td>442.0</td>\n    </tr>\n    <tr>\n      <th>2247</th>\n      <td>80ff901eec9640d285bfb2f9d54503a23ec78edf</td>\n      <td>0.0</td>\n    </tr>\n    <tr>\n      <th>2605</th>\n      <td>92d26d442aa39811a925e409313c2155c70bd207</td>\n      <td>458.9</td>\n    </tr>\n    <tr>\n      <th>1942</th>\n      <td>964e5231f3726b65b2ee6be9dab3ab4d7fd67999</td>\n      <td>452.9</td>\n    </tr>\n    <tr>\n      <th>2850</th>\n      <td>91d6ce670cecd35b7f7da283df465ccb09f4fb32</td>\n      <td>475.5</td>\n    </tr>\n    <tr>\n      <th>1916</th>\n      <td>eeaf1b97a497f1601f38342896b287a55b92267b</td>\n      <td>408.8</td>\n    </tr>\n    <tr>\n      <th>489</th>\n      <td>b505434998285eb78dfdb4341e4a29cc13a2130a</td>\n      <td>424.7</td>\n    </tr>\n    <tr>\n      <th>2383</th>\n      <td>86c838eb84d6b2b11398ebf5a2e4702e1abac79d</td>\n      <td>424.6</td>\n    </tr>\n    <tr>\n      <th>3603</th>\n      <td>5aed9b781bc9d334def639b9e22fa0edd86c4104</td>\n      <td>432.3</td>\n    </tr>\n    <tr>\n      <th>690</th>\n      <td>7a4af6bf3d3098a068b6094e3af6901fa2559195</td>\n      <td>513.2</td>\n    </tr>\n    <tr>\n      <th>2966</th>\n      <td>eb65f90b1a02d029aed00ed2e671d34ab7b3df95</td>\n      <td>0.0</td>\n    </tr>\n    <tr>\n      <th>1554</th>\n      <td>ca929d2fce6afa19a2a44d7324f59b5571504a56</td>\n      <td>427.3</td>\n    </tr>\n    <tr>\n      <th>1301</th>\n      <td>4fd6d0176a158a7e6c0e74ab3b5559ffad569413</td>\n      <td>0.0</td>\n    </tr>\n  </tbody>\n</table>\n</div>"
     },
     "execution_count": 38,
     "metadata": {},
     "output_type": "execute_result"
    }
   ],
   "source": [
    "result.sample(20)"
   ],
   "metadata": {
    "collapsed": false,
    "pycharm": {
     "name": "#%%\n"
    }
   }
  },
  {
   "cell_type": "code",
   "execution_count": 39,
   "outputs": [],
   "source": [
    "result.to_csv('answer.csv', index=False, header=True)"
   ],
   "metadata": {
    "collapsed": false,
    "pycharm": {
     "name": "#%%\n"
    }
   }
  },
  {
   "cell_type": "code",
   "execution_count": null,
   "outputs": [],
   "source": [
    "\n"
   ],
   "metadata": {
    "collapsed": false,
    "pycharm": {
     "name": "#%%\n"
    }
   }
  }
 ],
 "metadata": {
  "kernelspec": {
   "display_name": "Python 3",
   "language": "python",
   "name": "python3"
  },
  "language_info": {
   "codemirror_mode": {
    "name": "ipython",
    "version": 3
   },
   "file_extension": ".py",
   "mimetype": "text/x-python",
   "name": "python",
   "nbconvert_exporter": "python",
   "pygments_lexer": "ipython3",
   "version": "3.7.0"
  }
 },
 "nbformat": 4,
 "nbformat_minor": 1
}